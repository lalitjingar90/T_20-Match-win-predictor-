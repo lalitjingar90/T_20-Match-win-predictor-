{
 "cells": [
  {
   "cell_type": "markdown",
   "id": "5d75da47-ba5a-4417-9877-0435ec9bdc92",
   "metadata": {},
   "source": [
    "Importing Required Libraries"
   ]
  },
  {
   "cell_type": "code",
   "execution_count": null,
   "id": "e4d48e4e-b24c-4613-9158-fce110f2046d",
   "metadata": {},
   "outputs": [],
   "source": [
    "import pandas as pd\n",
    "import numpy as np"
   ]
  },
  {
   "cell_type": "code",
   "execution_count": null,
   "id": "40ae8817-86d0-474c-9f3e-b3d417e97d5f",
   "metadata": {},
   "outputs": [],
   "source": [
    "#creating a dataframe df which read and will contain the file\n",
    "df  = pd.read_csv(r\"C:\\Users\\HP\\Desktop\\ML projects\\T_20 cricket Prediction\\ball_by_ball_it20.csv\")"
   ]
  },
  {
   "cell_type": "code",
   "execution_count": null,
   "id": "542ab23d-1653-402d-a204-302956984a30",
   "metadata": {},
   "outputs": [],
   "source": [
    "df.head()"
   ]
  },
  {
   "cell_type": "code",
   "execution_count": null,
   "id": "c92c9807-486e-423e-82b6-fd8865a7e957",
   "metadata": {},
   "outputs": [],
   "source": [
    "#Checking for nnull Values\n",
    "df.isnull().sum()"
   ]
  },
  {
   "cell_type": "code",
   "execution_count": null,
   "id": "72e4af72-95e2-44f7-a589-b68e76bce396",
   "metadata": {},
   "outputs": [],
   "source": [
    "#Printing all the column names so that we can select the important ones on which we will proceed our work\n",
    "df.columns"
   ]
  },
  {
   "cell_type": "code",
   "execution_count": null,
   "id": "5f168b5b-2ace-4f0e-84a4-70f2ed152dab",
   "metadata": {},
   "outputs": [],
   "source": [
    "df.head(1)"
   ]
  },
  {
   "cell_type": "code",
   "execution_count": null,
   "id": "662c065e-5895-41e9-87f2-771795fa57b6",
   "metadata": {},
   "outputs": [],
   "source": [
    "#Seperating the dataset into three so that each column is easily visible\n",
    "data = {\n",
    "    f'col{i}': range(10) for i in range(1, 36)\n",
    "}\n",
    "\n",
    "# Splitting the DataFrame into three smaller DataFrames\n",
    "df1 = df.iloc[:, :12]\n",
    "df2 = df.iloc[:, 12:24]\n",
    "df3 = df.iloc[:, 24:35]"
   ]
  },
  {
   "cell_type": "code",
   "execution_count": null,
   "id": "b91e5679-bfb8-4e1f-8b33-93a8d2fb4488",
   "metadata": {},
   "outputs": [],
   "source": [
    "df1.head(8)"
   ]
  },
  {
   "cell_type": "code",
   "execution_count": null,
   "id": "c8ee0569-de0f-4911-ad74-4764a5167949",
   "metadata": {},
   "outputs": [],
   "source": [
    "df2.head()"
   ]
  },
  {
   "cell_type": "code",
   "execution_count": null,
   "id": "6c6e2bcf-c437-4e07-b7d4-d38e324b4910",
   "metadata": {},
   "outputs": [],
   "source": [
    "#df3['Chased Successfully'].value_counts()\n",
    "df3.head(1)"
   ]
  },
  {
   "cell_type": "markdown",
   "id": "553bed7c-bb42-4790-a832-94a8d8902c98",
   "metadata": {},
   "source": [
    "Now I created two files Matches and Deliveries, as per need"
   ]
  },
  {
   "cell_type": "code",
   "execution_count": null,
   "id": "6ad30171-cfd6-4a6f-ba61-25fbba448856",
   "metadata": {},
   "outputs": [],
   "source": [
    "matches = df[['Match ID','Venue','Winner','Bat First','Bat Second','Target Score']]"
   ]
  },
  {
   "cell_type": "code",
   "execution_count": null,
   "id": "6b1dceae-f936-435e-96cd-49472b6f25c0",
   "metadata": {},
   "outputs": [],
   "source": [
    "#matches.head()"
   ]
  },
  {
   "cell_type": "code",
   "execution_count": null,
   "id": "c49b5e2a-15aa-425b-be5b-2a6baf1206e6",
   "metadata": {},
   "outputs": [],
   "source": [
    "deliveries = df[['Match ID','Venue','Innings','Bat First','Bat Second','Batter','Winner','Non Striker','Bowler','Ball','Batter Runs','Extra Runs','Runs From Ball','Ball Rebowled','Extra Type','Wicket','Method','Player Out','Innings Runs','Innings Wickets','Target Score','Runs to Get'\n",
    "\t,'Balls Remaining']]"
   ]
  },
  {
   "cell_type": "code",
   "execution_count": null,
   "id": "581521c7-b60f-4cf5-b393-9c4b78ac8852",
   "metadata": {},
   "outputs": [],
   "source": [
    "deliveries.head(785)"
   ]
  },
  {
   "cell_type": "markdown",
   "id": "e0fddd52-7fe5-4edf-b4a3-61d47420eba6",
   "metadata": {},
   "source": [
    "Data cleaning and PREPROCESSING"
   ]
  },
  {
   "cell_type": "code",
   "execution_count": null,
   "id": "759bf97f-dec6-4d87-a690-fe4f02eb1c03",
   "metadata": {},
   "outputs": [],
   "source": [
    "matches['Bat First'].unique()"
   ]
  },
  {
   "cell_type": "code",
   "execution_count": null,
   "id": "4fec330c-1a1a-45c9-8c83-5155b6000f1b",
   "metadata": {},
   "outputs": [],
   "source": []
  },
  {
   "cell_type": "code",
   "execution_count": null,
   "id": "ed1be066-d13d-4c9b-a62d-915456db4756",
   "metadata": {},
   "outputs": [],
   "source": [
    "#Removing non playing Nation and selected which are playing presently and specially taking part in T_20 WC 2024\n",
    "Teams = ['West Indies', 'Scotland',\n",
    "       'Sri Lanka', 'England',\n",
    "       'United Arab Emirates', 'Denmark', 'Bangladesh',\n",
    "       'India', 'Papua New Guinea', 'Afghanistan', \n",
    "       'Netherlands', 'Ireland', 'New Zealand','Pakistan',\n",
    "      'Nepal', 'South Africa', 'Australia',\n",
    "       'Oman','Zimbabwe', 'Hong Kong', 'Kenya', 'Canada','Namibia',\n",
    "       'United States of America', \n",
    "      ]"
   ]
  },
  {
   "cell_type": "code",
   "execution_count": null,
   "id": "705aa786-7f4f-4231-a740-065b59f51e91",
   "metadata": {},
   "outputs": [],
   "source": [
    "len(Teams)"
   ]
  },
  {
   "cell_type": "markdown",
   "id": "2300d85b-13d4-44c7-a354-4ccc80503de8",
   "metadata": {},
   "source": [
    "Updating files as per selected teams "
   ]
  },
  {
   "cell_type": "code",
   "execution_count": null,
   "id": "6bbfac42-9464-4798-86c7-007488e1cbe8",
   "metadata": {},
   "outputs": [],
   "source": [
    "matches = matches[matches['Bat First'].isin(Teams)]\n",
    "matches = matches[matches['Bat Second'].isin(Teams)]"
   ]
  },
  {
   "cell_type": "code",
   "execution_count": null,
   "id": "da491d6f-0d1a-4eba-a7ec-e6d64eb310ae",
   "metadata": {},
   "outputs": [],
   "source": [
    "deliveries = deliveries[deliveries['Bat Second'].isin(Teams)]\n",
    "deliveries = deliveries[deliveries['Bat First'].isin(Teams)]"
   ]
  },
  {
   "cell_type": "code",
   "execution_count": null,
   "id": "722d226b-f39e-4360-bb4c-539b69d32840",
   "metadata": {},
   "outputs": [],
   "source": []
  },
  {
   "cell_type": "code",
   "execution_count": null,
   "id": "ab617b52-658c-4bd0-b987-ec1dd24766a5",
   "metadata": {},
   "outputs": [],
   "source": [
    "deliveries = deliveries[deliveries['Innings'] == 2]"
   ]
  },
  {
   "cell_type": "code",
   "execution_count": null,
   "id": "6ab9431f-95ea-45b1-a97c-3420883d230e",
   "metadata": {},
   "outputs": [],
   "source": [
    "deliveries.shape"
   ]
  },
  {
   "cell_type": "code",
   "execution_count": null,
   "id": "cc7d8f40-3384-4a93-8612-48b5772ea6a0",
   "metadata": {},
   "outputs": [],
   "source": [
    "deliveries = deliveries.rename(columns = {'Innings Runs': 'Current Score','Innings Wickets':'Wickets','Runs to Get':'Required Runs','Runs From Ball':'Run scored'})"
   ]
  },
  {
   "cell_type": "code",
   "execution_count": null,
   "id": "76d1b094-572a-4bcb-bd2d-6234ac8739c0",
   "metadata": {},
   "outputs": [],
   "source": [
    "deliveries.head()"
   ]
  },
  {
   "cell_type": "code",
   "execution_count": null,
   "id": "b72b2eda-1979-44c8-8758-9f0ad8317226",
   "metadata": {},
   "outputs": [],
   "source": [
    "#Creating new column wicket left,and droping unnecessary columns\n",
    "deliveries = deliveries.drop(columns = {\"Method\",\"Player Out\"})\n",
    "deliveries[\"Wickets Left\"] = 10 - deliveries['Wickets']"
   ]
  },
  {
   "cell_type": "code",
   "execution_count": null,
   "id": "e9ae2e3a-5321-4643-8414-9ef1527b87c6",
   "metadata": {},
   "outputs": [],
   "source": [
    "deliveries.head()"
   ]
  },
  {
   "cell_type": "code",
   "execution_count": null,
   "id": "c72ee915-579b-4d37-80db-acb85a30fb32",
   "metadata": {},
   "outputs": [],
   "source": []
  },
  {
   "cell_type": "code",
   "execution_count": null,
   "id": "4aba62e6-a50f-4905-9207-e7c113acb9cf",
   "metadata": {},
   "outputs": [],
   "source": [
    "#Now droping wicket as we only require wickets left\n",
    "deliveries = deliveries.drop(columns = {\"Wicket\"})"
   ]
  },
  {
   "cell_type": "code",
   "execution_count": null,
   "id": "6b77c8ca-fe7c-41c9-90b3-797f06d8f492",
   "metadata": {},
   "outputs": [],
   "source": [
    "deliveries.head()"
   ]
  },
  {
   "cell_type": "markdown",
   "id": "f96e3e3f-f92b-4543-beb8-c4dd22ed9063",
   "metadata": {},
   "source": [
    "Creating new column for Required run-rate and Current run-rate"
   ]
  },
  {
   "cell_type": "code",
   "execution_count": null,
   "id": "828e961c-74b8-46f3-9b80-aac3cee7df3d",
   "metadata": {},
   "outputs": [],
   "source": [
    "deliveries['RR'] = (deliveries['Required Runs']/deliveries['Balls Remaining'])*6\n",
    "deliveries['CR'] = (deliveries['Current Score']/(120 - deliveries['Balls Remaining'])*6)"
   ]
  },
  {
   "cell_type": "code",
   "execution_count": null,
   "id": "83431433-27fb-442d-a9b2-a8d5a7f13cff",
   "metadata": {},
   "outputs": [],
   "source": [
    "deliveries.head(6)"
   ]
  },
  {
   "cell_type": "code",
   "execution_count": null,
   "id": "c83db0be-a514-4253-8e66-97218b291180",
   "metadata": {},
   "outputs": [],
   "source": [
    "# for team in deliveries['Bat Second']:\n",
    "#     if team == deliveries['Winner']:\n",
    "#         deliveries['Result'] = 1\n",
    "#     else :\n",
    "#         deliveries['Result'] =0"
   ]
  },
  {
   "cell_type": "code",
   "execution_count": null,
   "id": "b42fb6e4-11ff-476c-aa33-680bb1c49fb1",
   "metadata": {},
   "outputs": [],
   "source": [
    "#Creating another column Result which contain 0 and 1 to indicate match result\n",
    "deliveries['Result'] = deliveries.apply(lambda row: 1 if row['Bat Second'] == row['Winner'] else 0, axis=1)"
   ]
  },
  {
   "cell_type": "code",
   "execution_count": null,
   "id": "876267b7-9489-4e73-b033-1d7a7b0c25db",
   "metadata": {},
   "outputs": [],
   "source": [
    "deliveries.head(1)"
   ]
  },
  {
   "cell_type": "code",
   "execution_count": null,
   "id": "245bae9d-adfe-496b-9197-e33bb2a34bcd",
   "metadata": {},
   "outputs": [],
   "source": [
    "#droping NA values\n",
    "deliveries.dropna(inplace=True)"
   ]
  },
  {
   "cell_type": "code",
   "execution_count": null,
   "id": "93d07a7e-3bf5-43ca-9b8b-2e11f59e7c05",
   "metadata": {},
   "outputs": [],
   "source": [
    "#Removing rows which have 0 ball remaining in it as it create problem in run-rate\n",
    "deliveries = deliveries[deliveries['Balls Remaining'] != 0]"
   ]
  },
  {
   "cell_type": "code",
   "execution_count": null,
   "id": "7e82eaf7-3368-4742-93e5-f954f4f2aee5",
   "metadata": {},
   "outputs": [],
   "source": [
    "deliveries.shape"
   ]
  },
  {
   "cell_type": "code",
   "execution_count": null,
   "id": "09302095-452f-4019-8cf2-6df028f40e2a",
   "metadata": {},
   "outputs": [],
   "source": []
  },
  {
   "cell_type": "code",
   "execution_count": null,
   "id": "570d4359-d092-4385-9881-d2044dadb891",
   "metadata": {},
   "outputs": [],
   "source": [
    "#Renaming some columns for convinience\n",
    "deliveries = deliveries.rename(columns = {'Bat First':'Bowling Side','Bat Second': 'Batting Side'})"
   ]
  },
  {
   "cell_type": "code",
   "execution_count": null,
   "id": "6d2018b6-340d-4096-8e17-479fc0ba690e",
   "metadata": {},
   "outputs": [],
   "source": [
    "#deliveries.head()"
   ]
  },
  {
   "cell_type": "markdown",
   "id": "8535984d-4d9e-4355-aa76-5042927f1f7e",
   "metadata": {},
   "source": [
    "Finally selecting columns for training and testing"
   ]
  },
  {
   "cell_type": "code",
   "execution_count": null,
   "id": "947daf2b-7c4c-4da0-9d05-9ff3c5475da1",
   "metadata": {},
   "outputs": [],
   "source": [
    "Final_doc = deliveries[['Bowling Side','Batting Side','Venue','Target Score','Required Runs','Balls Remaining','CR','RR','Wickets Left','Result']]"
   ]
  },
  {
   "cell_type": "code",
   "execution_count": null,
   "id": "69f9d0ee-e0eb-474b-94fa-a2dbe40e4e06",
   "metadata": {},
   "outputs": [],
   "source": [
    "Final_doc.dropna(inplace=True)\n",
    "Final_doc = Final_doc[Final_doc['Balls Remaining'] != 0]\n",
    "Final_doc = Final_doc[Final_doc['Wickets Left'] != 0]\n",
    "Final_doc.head()"
   ]
  },
  {
   "cell_type": "code",
   "execution_count": null,
   "id": "427e035a-03eb-47b7-bdaf-a11adf912fbe",
   "metadata": {},
   "outputs": [],
   "source": [
    "#Sving file\n",
    "#Final_doc.to_csv('T_20i.csv')"
   ]
  },
  {
   "cell_type": "code",
   "execution_count": null,
   "id": "1cbff228-0cfa-4c97-af2b-43218161a364",
   "metadata": {},
   "outputs": [],
   "source": [
    "deliveries.to_csv('Deliveries_1.csv')"
   ]
  },
  {
   "cell_type": "code",
   "execution_count": null,
   "id": "2ed1f69b-e889-4185-b7e5-3f6b79e35f6b",
   "metadata": {},
   "outputs": [],
   "source": [
    "Final_doc.replace([np.inf, -np.inf, np.finfo(np.float64).max], np.nan, inplace=True)\n",
    "Final_doc.dropna(inplace=True)"
   ]
  },
  {
   "cell_type": "code",
   "execution_count": null,
   "id": "d6dc26e1-7e04-4982-a0ba-06e5e3e3435a",
   "metadata": {},
   "outputs": [],
   "source": [
    "X = Final_doc.drop(columns = \"Result\")\n",
    "Y = Final_doc.Result"
   ]
  },
  {
   "cell_type": "code",
   "execution_count": null,
   "id": "bc6015ad-d8cb-4295-b308-48aef5f5b003",
   "metadata": {},
   "outputs": [],
   "source": [
    "from sklearn.model_selection import train_test_split\n",
    "X_train,X_test,y_train,y_test= train_test_split(X,Y,test_size = 0.2,random_state = 22)\n",
    "#X.head(1)\n",
    "#Y.head(1)\n",
    "# X_train.head()\n",
    "# y_train.head()"
   ]
  },
  {
   "cell_type": "code",
   "execution_count": null,
   "id": "5ab15340-484e-4f1a-a80f-ecba308d979e",
   "metadata": {},
   "outputs": [],
   "source": []
  },
  {
   "cell_type": "code",
   "execution_count": null,
   "id": "848f5e00-d031-4e4e-998a-c411fed16ce4",
   "metadata": {},
   "outputs": [],
   "source": [
    "from sklearn.compose import ColumnTransformer\n",
    "from sklearn.preprocessing import OneHotEncoder\n",
    "\n",
    "trf = ColumnTransformer([\n",
    "    ('trf',OneHotEncoder(sparse_output=False,drop='first'),['Batting Side','Bowling Side','Venue','Wickets Left'])\n",
    "]\n",
    ",remainder='passthrough')\n"
   ]
  },
  {
   "cell_type": "code",
   "execution_count": null,
   "id": "80748fa9-46cc-43d1-9edc-519bcc183747",
   "metadata": {},
   "outputs": [],
   "source": [
    "from sklearn.linear_model import LogisticRegression\n",
    "from sklearn.ensemble import RandomForestClassifier\n",
    "from sklearn.pipeline import Pipeline"
   ]
  },
  {
   "cell_type": "code",
   "execution_count": null,
   "id": "7ada441f-1c6b-4784-9359-6556e00cb61e",
   "metadata": {},
   "outputs": [],
   "source": [
    "# clf = Pipeline(steps=[\n",
    "#     ('step1',trf),\n",
    "#     ('step2',LogisticRegression(solver='liblinear'))\n",
    "# ])\n",
    "from sklearn.tree import DecisionTreeClassifier\n",
    "\n",
    "clf = Pipeline(steps=[\n",
    "    ('step1', trf),\n",
    "    ('step2', DecisionTreeClassifier(random_state=42))\n",
    "])\n",
    "\n",
    "# from sklearn.ensemble import RandomForestClassifier\n",
    "\n",
    "# clf = Pipeline(steps=[\n",
    "#     ('step1', trf),\n",
    "#     ('step2', RandomForestClassifier(n_estimators=100, random_state=42))\n",
    "# ])\n",
    "\n",
    "from sklearn.svm import SVC\n",
    "\n",
    "clf = Pipeline(steps=[\n",
    "    ('step1', trf),\n",
    "    ('step2', SVC(probability=True, random_state=42))\n",
    "])\n"
   ]
  },
  {
   "cell_type": "code",
   "execution_count": null,
   "id": "6bbf7b02-dd31-41ac-9f9c-cccba5a37b0c",
   "metadata": {},
   "outputs": [],
   "source": [
    "clf.fit(X_train,y_train)"
   ]
  },
  {
   "cell_type": "code",
   "execution_count": null,
   "id": "3e2355e5-be92-4eba-bfbb-f72e205abd8b",
   "metadata": {},
   "outputs": [],
   "source": [
    "y_pred = clf.predict(X_test)"
   ]
  },
  {
   "cell_type": "code",
   "execution_count": null,
   "id": "37c4351f-c417-4671-bf4c-467de9f1b6a3",
   "metadata": {},
   "outputs": [],
   "source": [
    "from sklearn.metrics import accuracy_score\n",
    "accuracy_score(y_test,y_pred)"
   ]
  },
  {
   "cell_type": "code",
   "execution_count": null,
   "id": "1cf55a47-c93f-4d64-b1e5-56f742b1f856",
   "metadata": {},
   "outputs": [],
   "source": [
    "from sklearn.metrics import classification_report"
   ]
  },
  {
   "cell_type": "code",
   "execution_count": null,
   "id": "c4ba3970-7da8-4635-a35f-17e3cf165859",
   "metadata": {},
   "outputs": [],
   "source": [
    "print(classification_report(y_test,y_pred))"
   ]
  },
  {
   "cell_type": "code",
   "execution_count": null,
   "id": "824d5113-c034-4a4b-8280-7d620f6fcedd",
   "metadata": {},
   "outputs": [],
   "source": []
  },
  {
   "cell_type": "markdown",
   "id": "1d01912e-d7b8-4209-ae6a-beed71d2b3f2",
   "metadata": {},
   "source": [
    "Now just checking predictions for some matches and it works "
   ]
  },
  {
   "cell_type": "code",
   "execution_count": null,
   "id": "dade81a4-c2bd-4663-8b70-f33dde37779b",
   "metadata": {},
   "outputs": [],
   "source": [
    "def match_summary(row):\n",
    "    print(\"Batting Team-\" + row['Btting Side'] + \" | Bowling Team-\" + row['Bowling Side'] + \" | Target- \" + str(row['Target Score']))\n"
   ]
  },
  {
   "cell_type": "code",
   "execution_count": null,
   "id": "2ebd554a-e863-4c3f-92a7-0d72b1449ee4",
   "metadata": {},
   "outputs": [],
   "source": [
    "def match_progression(x_df,match_id,pipe):\n",
    "    match = x_df[x_df['Match ID'] == match_id]\n",
    "    match = match[(match['Ball'] == 6)]\n",
    "    temp_df = match[['Batting Side','Bowling Side','Venue','Required Runs','Balls Remaining','Wickets Left','Target Score','CR','RR']].dropna()\n",
    "    temp_df = temp_df[temp_df['Balls Remaining'] != 0]\n",
    "    result = pipe.predict_proba(temp_df)\n",
    "    temp_df['lose'] = np.round(result.T[0]*100,1)\n",
    "    temp_df['win'] = np.round(result.T[1]*100,1)\n",
    "    temp_df['end_of_over'] = range(1,temp_df.shape[0]+1)\n",
    "    \n",
    "    target = temp_df['Target Score'].values[0]\n",
    "    runs = list(temp_df['Required Runs'].values)\n",
    "    new_runs = runs[:]\n",
    "    runs.insert(0,target)\n",
    "    temp_df['runs_after_over'] = np.array(runs)[:-1] - np.array(new_runs)\n",
    "    wickets = list(temp_df['Wickets Left'].values)\n",
    "    new_wickets = wickets[:]\n",
    "    new_wickets.insert(0,10)\n",
    "    wickets.append(0)\n",
    "    w = np.array(wickets)\n",
    "    nw = np.array(new_wickets)\n",
    "    temp_df['wickets_in_over'] = (nw - w)[0:temp_df.shape[0]]\n",
    "    \n",
    "    print(\"Target-\",target)\n",
    "    temp_df = temp_df[['end_of_over','runs_after_over','wickets_in_over','lose','win']]\n",
    "    return temp_df,target"
   ]
  },
  {
   "cell_type": "code",
   "execution_count": null,
   "id": "6e1598e9-f94a-4e89-92c9-e5b4829ac5bf",
   "metadata": {},
   "outputs": [],
   "source": [
    "temp_df,target = match_progression(deliveries,1298176,clf)\n",
    "temp_df"
   ]
  },
  {
   "cell_type": "code",
   "execution_count": null,
   "id": "3af2b881-9c48-4321-81d5-905ff4cb4450",
   "metadata": {},
   "outputs": [],
   "source": [
    "deliveries['Venue'].unique()"
   ]
  },
  {
   "cell_type": "code",
   "execution_count": 2,
   "id": "ec3219ab-a15f-459c-9b59-b10116c4f259",
   "metadata": {},
   "outputs": [],
   "source": [
    "import joblib\n",
    "import pandas as pd\n",
    "\n",
    "# Load the model\n",
    "clf = joblib.load(\"clf.joblib\")"
   ]
  },
  {
   "cell_type": "code",
   "execution_count": null,
   "id": "93dbe9ab-ff48-4051-8eb9-c02a97426582",
   "metadata": {},
   "outputs": [],
   "source": [
    "deliveries['Batting Side'].unique()"
   ]
  },
  {
   "cell_type": "markdown",
   "id": "1d309a03-4d98-4249-83bb-e0c7a9893690",
   "metadata": {},
   "source": [
    "I trained my model on linear regression, it can be done on some other models as well \n",
    "like:-\n",
    "1.Logistic Regression\n",
    "2.Decision Trees\n",
    "3.Random Forests\n",
    "4.Gradient Boosting Machines (GBM)\n",
    "etc. \n"
   ]
  },
  {
   "cell_type": "code",
   "execution_count": null,
   "id": "efb7f9ac-d8c6-4e04-84f4-8a0cdeda271c",
   "metadata": {},
   "outputs": [],
   "source": []
  },
  {
   "cell_type": "markdown",
   "id": "d503f734-4902-40c9-b8c0-5e7e4f49af62",
   "metadata": {},
   "source": [
    "THANKS FOR VISITING"
   ]
  },
  {
   "cell_type": "code",
   "execution_count": null,
   "id": "01d28a23-8e30-49be-a421-2f5de7146717",
   "metadata": {},
   "outputs": [],
   "source": []
  }
 ],
 "metadata": {
  "kernelspec": {
   "display_name": "Python 3 (ipykernel)",
   "language": "python",
   "name": "python3"
  },
  "language_info": {
   "codemirror_mode": {
    "name": "ipython",
    "version": 3
   },
   "file_extension": ".py",
   "mimetype": "text/x-python",
   "name": "python",
   "nbconvert_exporter": "python",
   "pygments_lexer": "ipython3",
   "version": "3.10.0"
  }
 },
 "nbformat": 4,
 "nbformat_minor": 5
}
